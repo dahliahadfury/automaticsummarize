{
 "cells": [
  {
   "cell_type": "code",
   "execution_count": 1,
   "metadata": {},
   "outputs": [],
   "source": [
    "from sklearn.metrics import confusion_matrix\n",
    "import pandas as pd"
   ]
  },
  {
   "cell_type": "code",
   "execution_count": 2,
   "metadata": {},
   "outputs": [],
   "source": [
    "hasil_sistem_dok1= pd.read_csv(\"hasil sistem 100 iterasi dengan judul kurang 1/hasil sistem dokumen 1.csv\")\n",
    "hasil_sistem_dok2= pd.read_csv(\"hasil sistem 100 iterasi dengan judul kurang 1/hasil sistem dokumen 2.csv\")\n",
    "hasil_sistem_dok3= pd.read_csv(\"hasil sistem 100 iterasi dengan judul kurang 1/hasil sistem dokumen 3.csv\")\n",
    "hasil_sistem_dok4= pd.read_csv(\"hasil sistem 100 iterasi dengan judul kurang 1/hasil sistem dokumen 4.csv\")\n",
    "hasil_sistem_dok5= pd.read_csv(\"hasil sistem 100 iterasi dengan judul kurang 1/hasil sistem dokumen 5.csv\")\n",
    "hasil_sistem_dok6= pd.read_csv(\"hasil sistem 100 iterasi dengan judul kurang 1/hasil sistem dokumen 6.csv\")\n",
    "hasil_sistem_dok7= pd.read_csv(\"hasil sistem 100 iterasi dengan judul kurang 1/hasil sistem dokumen 7.csv\")\n",
    "hasil_sistem_dok8= pd.read_csv(\"hasil sistem 100 iterasi dengan judul kurang 1/hasil sistem dokumen 8.csv\")\n",
    "hasil_sistem_dok9= pd.read_csv(\"hasil sistem 100 iterasi dengan judul kurang 1/hasil sistem dokumen 9.csv\")\n",
    "hasil_sistem_dok10= pd.read_csv(\"hasil sistem 100 iterasi dengan judul kurang 1/hasil sistem dokumen 10.csv\")"
   ]
  },
  {
   "cell_type": "code",
   "execution_count": 3,
   "metadata": {},
   "outputs": [],
   "source": [
    "hasil_pakar_dok1= pd.read_csv(\"hasil pakar/csv/dokumen 1.csv\")\n",
    "hasil_pakar_dok2= pd.read_csv(\"hasil pakar/csv/dokumen 2.csv\")\n",
    "hasil_pakar_dok3= pd.read_csv(\"hasil pakar/csv/dokumen 3.csv\")\n",
    "hasil_pakar_dok4= pd.read_csv(\"hasil pakar/csv/dokumen 4.csv\")\n",
    "hasil_pakar_dok5= pd.read_csv(\"hasil pakar/csv/dokumen 5.csv\")\n",
    "hasil_pakar_dok6= pd.read_csv(\"hasil pakar/csv/dokumen 6.csv\")\n",
    "hasil_pakar_dok7= pd.read_csv(\"hasil pakar/csv/dokumen 7.csv\")\n",
    "hasil_pakar_dok8= pd.read_csv(\"hasil pakar/csv/dokumen 8.csv\")\n",
    "hasil_pakar_dok9= pd.read_csv(\"hasil pakar/csv/dokumen 9.csv\")\n",
    "hasil_pakar_dok10= pd.read_csv(\"hasil pakar/csv/dokumen 10.csv\")"
   ]
  },
  {
   "cell_type": "code",
   "execution_count": 4,
   "metadata": {},
   "outputs": [],
   "source": [
    "# i=0\n",
    "# for a in hasil_pakar_dok7[\"0.2\"]:\n",
    "#     i+=1\n",
    "#     print(i,\" \",a)"
   ]
  },
  {
   "cell_type": "code",
   "execution_count": 5,
   "metadata": {
    "scrolled": true
   },
   "outputs": [
    {
     "data": {
      "text/html": [
       "<div>\n",
       "<style scoped>\n",
       "    .dataframe tbody tr th:only-of-type {\n",
       "        vertical-align: middle;\n",
       "    }\n",
       "\n",
       "    .dataframe tbody tr th {\n",
       "        vertical-align: top;\n",
       "    }\n",
       "\n",
       "    .dataframe thead th {\n",
       "        text-align: right;\n",
       "    }\n",
       "</style>\n",
       "<table border=\"1\" class=\"dataframe\">\n",
       "  <thead>\n",
       "    <tr style=\"text-align: right;\">\n",
       "      <th></th>\n",
       "      <th>dokumen</th>\n",
       "      <th>0.05</th>\n",
       "      <th>0.1</th>\n",
       "      <th>0.2</th>\n",
       "      <th>0.3</th>\n",
       "    </tr>\n",
       "  </thead>\n",
       "  <tbody>\n",
       "    <tr>\n",
       "      <th>0</th>\n",
       "      <td>Banjir dan longsor terjadi di Sumatera Barat, ...</td>\n",
       "      <td>no</td>\n",
       "      <td>no</td>\n",
       "      <td>no</td>\n",
       "      <td>no</td>\n",
       "    </tr>\n",
       "    <tr>\n",
       "      <th>1</th>\n",
       "      <td>Sejumlah kabupaten dan kota di Sumatera Barat ...</td>\n",
       "      <td>no</td>\n",
       "      <td>no</td>\n",
       "      <td>no</td>\n",
       "      <td>no</td>\n",
       "    </tr>\n",
       "    <tr>\n",
       "      <th>2</th>\n",
       "      <td>Bencana alam ini dilaporkan menyebabkan enam o...</td>\n",
       "      <td>no</td>\n",
       "      <td>no</td>\n",
       "      <td>no</td>\n",
       "      <td>no</td>\n",
       "    </tr>\n",
       "    <tr>\n",
       "      <th>3</th>\n",
       "      <td>Merujuk data Pusat Pengendalian Operasi Penang...</td>\n",
       "      <td>no</td>\n",
       "      <td>no</td>\n",
       "      <td>yes</td>\n",
       "      <td>yes</td>\n",
       "    </tr>\n",
       "    <tr>\n",
       "      <th>4</th>\n",
       "      <td>Adapun, daerah terdampak banjir adalah Tanah D...</td>\n",
       "      <td>no</td>\n",
       "      <td>no</td>\n",
       "      <td>yes</td>\n",
       "      <td>yes</td>\n",
       "    </tr>\n",
       "    <tr>\n",
       "      <th>5</th>\n",
       "      <td>Kepala BPBD Sumbar, Erman Rahman, menyebut huj...</td>\n",
       "      <td>no</td>\n",
       "      <td>no</td>\n",
       "      <td>no</td>\n",
       "      <td>yes</td>\n",
       "    </tr>\n",
       "    <tr>\n",
       "      <th>6</th>\n",
       "      <td>\"Hingga saat ini kami masih mendata korban ban...</td>\n",
       "      <td>yes</td>\n",
       "      <td>yes</td>\n",
       "      <td>yes</td>\n",
       "      <td>yes</td>\n",
       "    </tr>\n",
       "    <tr>\n",
       "      <th>7</th>\n",
       "      <td>Banjir yang terjadi membuat sebuah jembatan se...</td>\n",
       "      <td>no</td>\n",
       "      <td>no</td>\n",
       "      <td>no</td>\n",
       "      <td>yes</td>\n",
       "    </tr>\n",
       "    <tr>\n",
       "      <th>8</th>\n",
       "      <td>Jembatan itu berada di Kecamatan Bonjol, Kabup...</td>\n",
       "      <td>no</td>\n",
       "      <td>no</td>\n",
       "      <td>no</td>\n",
       "      <td>no</td>\n",
       "    </tr>\n",
       "    <tr>\n",
       "      <th>9</th>\n",
       "      <td>Camat Bonjol, Yohanis, menyebut jembatan terse...</td>\n",
       "      <td>no</td>\n",
       "      <td>no</td>\n",
       "      <td>no</td>\n",
       "      <td>no</td>\n",
       "    </tr>\n",
       "    <tr>\n",
       "      <th>10</th>\n",
       "      <td>Ia berkata, banjir juga membuat jalan di sekit...</td>\n",
       "      <td>no</td>\n",
       "      <td>no</td>\n",
       "      <td>no</td>\n",
       "      <td>no</td>\n",
       "    </tr>\n",
       "    <tr>\n",
       "      <th>11</th>\n",
       "      <td>\"Jembatan ini salah satu akses bagi pengendara...</td>\n",
       "      <td>no</td>\n",
       "      <td>no</td>\n",
       "      <td>yes</td>\n",
       "      <td>yes</td>\n",
       "    </tr>\n",
       "    <tr>\n",
       "      <th>12</th>\n",
       "      <td>Yohanis menyebut jembatan itu berpotensi hanyu...</td>\n",
       "      <td>no</td>\n",
       "      <td>no</td>\n",
       "      <td>no</td>\n",
       "      <td>no</td>\n",
       "    </tr>\n",
       "    <tr>\n",
       "      <th>13</th>\n",
       "      <td>\"Kami mengimbau warga Bonjol dan sekitarnya ti...</td>\n",
       "      <td>no</td>\n",
       "      <td>no</td>\n",
       "      <td>no</td>\n",
       "      <td>no</td>\n",
       "    </tr>\n",
       "    <tr>\n",
       "      <th>14</th>\n",
       "      <td>Jalan lintas Sumatera di Kelurahan Berangin, B...</td>\n",
       "      <td>no</td>\n",
       "      <td>yes</td>\n",
       "      <td>yes</td>\n",
       "      <td>yes</td>\n",
       "    </tr>\n",
       "    <tr>\n",
       "      <th>15</th>\n",
       "      <td>Polisi kini menerapkan sistem buka-tutup di ja...</td>\n",
       "      <td>no</td>\n",
       "      <td>no</td>\n",
       "      <td>no</td>\n",
       "      <td>no</td>\n",
       "    </tr>\n",
       "    <tr>\n",
       "      <th>16</th>\n",
       "      <td>Kepala BPBD Pasaman, Masfet Kenedi menuturkan,...</td>\n",
       "      <td>yes</td>\n",
       "      <td>yes</td>\n",
       "      <td>yes</td>\n",
       "      <td>yes</td>\n",
       "    </tr>\n",
       "    <tr>\n",
       "      <th>17</th>\n",
       "      <td>Pohon kayu sepanjang 18 meter juga tumbang ke ...</td>\n",
       "      <td>no</td>\n",
       "      <td>no</td>\n",
       "      <td>no</td>\n",
       "      <td>no</td>\n",
       "    </tr>\n",
       "    <tr>\n",
       "      <th>18</th>\n",
       "      <td>Sebuah mobil ambulans dilaporkan terjebak mate...</td>\n",
       "      <td>no</td>\n",
       "      <td>yes</td>\n",
       "      <td>yes</td>\n",
       "      <td>yes</td>\n",
       "    </tr>\n",
       "    <tr>\n",
       "      <th>19</th>\n",
       "      <td>Mobil itu dalam posisi menanjak, lantas terjeb...</td>\n",
       "      <td>no</td>\n",
       "      <td>no</td>\n",
       "      <td>no</td>\n",
       "      <td>no</td>\n",
       "    </tr>\n",
       "    <tr>\n",
       "      <th>20</th>\n",
       "      <td>Kepala Dinas Kesehatan Pasaman, Amdarisman, me...</td>\n",
       "      <td>no</td>\n",
       "      <td>no</td>\n",
       "      <td>no</td>\n",
       "      <td>no</td>\n",
       "    </tr>\n",
       "    <tr>\n",
       "      <th>21</th>\n",
       "      <td>\"Tidak ada korban jiwa.</td>\n",
       "      <td>no</td>\n",
       "      <td>no</td>\n",
       "      <td>no</td>\n",
       "      <td>no</td>\n",
       "    </tr>\n",
       "    <tr>\n",
       "      <th>22</th>\n",
       "      <td>Pasien (ibu hamil) sudah dirujuk ke RSUD Pasam...</td>\n",
       "      <td>no</td>\n",
       "      <td>no</td>\n",
       "      <td>no</td>\n",
       "      <td>no</td>\n",
       "    </tr>\n",
       "    <tr>\n",
       "      <th>23</th>\n",
       "      <td>Longsor yang terjadi Ranah Batu, Jorong Piubua...</td>\n",
       "      <td>no</td>\n",
       "      <td>no</td>\n",
       "      <td>no</td>\n",
       "      <td>yes</td>\n",
       "    </tr>\n",
       "    <tr>\n",
       "      <th>24</th>\n",
       "      <td>Dua orang dilaporkan tewas tertimbun material ...</td>\n",
       "      <td>no</td>\n",
       "      <td>no</td>\n",
       "      <td>no</td>\n",
       "      <td>no</td>\n",
       "    </tr>\n",
       "    <tr>\n",
       "      <th>25</th>\n",
       "      <td>Wali Nagari Jorong Piubuah, Haris, menyebut lo...</td>\n",
       "      <td>no</td>\n",
       "      <td>no</td>\n",
       "      <td>no</td>\n",
       "      <td>no</td>\n",
       "    </tr>\n",
       "    <tr>\n",
       "      <th>26</th>\n",
       "      <td>Harie berkata, longsor terjadi secara cepat se...</td>\n",
       "      <td>no</td>\n",
       "      <td>no</td>\n",
       "      <td>no</td>\n",
       "      <td>no</td>\n",
       "    </tr>\n",
       "    <tr>\n",
       "      <th>27</th>\n",
       "      <td>Longsor berasal dari Gunung Sago yang kemudian...</td>\n",
       "      <td>no</td>\n",
       "      <td>no</td>\n",
       "      <td>no</td>\n",
       "      <td>no</td>\n",
       "    </tr>\n",
       "    <tr>\n",
       "      <th>28</th>\n",
       "      <td>\"Ada dua korban, salah satunya ditemukan 2 kil...</td>\n",
       "      <td>no</td>\n",
       "      <td>no</td>\n",
       "      <td>no</td>\n",
       "      <td>no</td>\n",
       "    </tr>\n",
       "    <tr>\n",
       "      <th>29</th>\n",
       "      <td>Korban ini sedang hamil,\" kata Haris.</td>\n",
       "      <td>no</td>\n",
       "      <td>no</td>\n",
       "      <td>no</td>\n",
       "      <td>no</td>\n",
       "    </tr>\n",
       "    <tr>\n",
       "      <th>30</th>\n",
       "      <td>Kerusakan di lembah Gunung Sago itu mencapai p...</td>\n",
       "      <td>no</td>\n",
       "      <td>no</td>\n",
       "      <td>no</td>\n",
       "      <td>no</td>\n",
       "    </tr>\n",
       "    <tr>\n",
       "      <th>31</th>\n",
       "      <td>\"Total korban terdampak sebanyak 26 jiwa, rata...</td>\n",
       "      <td>no</td>\n",
       "      <td>no</td>\n",
       "      <td>no</td>\n",
       "      <td>no</td>\n",
       "    </tr>\n",
       "  </tbody>\n",
       "</table>\n",
       "</div>"
      ],
      "text/plain": [
       "                                              dokumen 0.05  0.1  0.2  0.3\n",
       "0   Banjir dan longsor terjadi di Sumatera Barat, ...   no   no   no   no\n",
       "1   Sejumlah kabupaten dan kota di Sumatera Barat ...   no   no   no   no\n",
       "2   Bencana alam ini dilaporkan menyebabkan enam o...   no   no   no   no\n",
       "3   Merujuk data Pusat Pengendalian Operasi Penang...   no   no  yes  yes\n",
       "4   Adapun, daerah terdampak banjir adalah Tanah D...   no   no  yes  yes\n",
       "5   Kepala BPBD Sumbar, Erman Rahman, menyebut huj...   no   no   no  yes\n",
       "6   \"Hingga saat ini kami masih mendata korban ban...  yes  yes  yes  yes\n",
       "7   Banjir yang terjadi membuat sebuah jembatan se...   no   no   no  yes\n",
       "8   Jembatan itu berada di Kecamatan Bonjol, Kabup...   no   no   no   no\n",
       "9   Camat Bonjol, Yohanis, menyebut jembatan terse...   no   no   no   no\n",
       "10  Ia berkata, banjir juga membuat jalan di sekit...   no   no   no   no\n",
       "11  \"Jembatan ini salah satu akses bagi pengendara...   no   no  yes  yes\n",
       "12  Yohanis menyebut jembatan itu berpotensi hanyu...   no   no   no   no\n",
       "13  \"Kami mengimbau warga Bonjol dan sekitarnya ti...   no   no   no   no\n",
       "14  Jalan lintas Sumatera di Kelurahan Berangin, B...   no  yes  yes  yes\n",
       "15  Polisi kini menerapkan sistem buka-tutup di ja...   no   no   no   no\n",
       "16  Kepala BPBD Pasaman, Masfet Kenedi menuturkan,...  yes  yes  yes  yes\n",
       "17  Pohon kayu sepanjang 18 meter juga tumbang ke ...   no   no   no   no\n",
       "18  Sebuah mobil ambulans dilaporkan terjebak mate...   no  yes  yes  yes\n",
       "19  Mobil itu dalam posisi menanjak, lantas terjeb...   no   no   no   no\n",
       "20  Kepala Dinas Kesehatan Pasaman, Amdarisman, me...   no   no   no   no\n",
       "21                            \"Tidak ada korban jiwa.   no   no   no   no\n",
       "22  Pasien (ibu hamil) sudah dirujuk ke RSUD Pasam...   no   no   no   no\n",
       "23  Longsor yang terjadi Ranah Batu, Jorong Piubua...   no   no   no  yes\n",
       "24  Dua orang dilaporkan tewas tertimbun material ...   no   no   no   no\n",
       "25  Wali Nagari Jorong Piubuah, Haris, menyebut lo...   no   no   no   no\n",
       "26  Harie berkata, longsor terjadi secara cepat se...   no   no   no   no\n",
       "27  Longsor berasal dari Gunung Sago yang kemudian...   no   no   no   no\n",
       "28  \"Ada dua korban, salah satunya ditemukan 2 kil...   no   no   no   no\n",
       "29              Korban ini sedang hamil,\" kata Haris.   no   no   no   no\n",
       "30  Kerusakan di lembah Gunung Sago itu mencapai p...   no   no   no   no\n",
       "31  \"Total korban terdampak sebanyak 26 jiwa, rata...   no   no   no   no"
      ]
     },
     "execution_count": 5,
     "metadata": {},
     "output_type": "execute_result"
    }
   ],
   "source": [
    "hasil_sistem_dok4"
   ]
  },
  {
   "cell_type": "code",
   "execution_count": 6,
   "metadata": {
    "scrolled": true
   },
   "outputs": [
    {
     "data": {
      "text/html": [
       "<div>\n",
       "<style scoped>\n",
       "    .dataframe tbody tr th:only-of-type {\n",
       "        vertical-align: middle;\n",
       "    }\n",
       "\n",
       "    .dataframe tbody tr th {\n",
       "        vertical-align: top;\n",
       "    }\n",
       "\n",
       "    .dataframe thead th {\n",
       "        text-align: right;\n",
       "    }\n",
       "</style>\n",
       "<table border=\"1\" class=\"dataframe\">\n",
       "  <thead>\n",
       "    <tr style=\"text-align: right;\">\n",
       "      <th></th>\n",
       "      <th>dokumen</th>\n",
       "      <th>0.05</th>\n",
       "      <th>0.1</th>\n",
       "      <th>0.2</th>\n",
       "      <th>0.3</th>\n",
       "    </tr>\n",
       "  </thead>\n",
       "  <tbody>\n",
       "    <tr>\n",
       "      <th>0</th>\n",
       "      <td>Sejumlah kabupaten dan kota di Sumatera Barat ...</td>\n",
       "      <td>yes</td>\n",
       "      <td>yes</td>\n",
       "      <td>yes</td>\n",
       "      <td>yes</td>\n",
       "    </tr>\n",
       "    <tr>\n",
       "      <th>1</th>\n",
       "      <td>Bencana alam ini dilaporkan menyebabkan enam ...</td>\n",
       "      <td>yes</td>\n",
       "      <td>yes</td>\n",
       "      <td>yes</td>\n",
       "      <td>yes</td>\n",
       "    </tr>\n",
       "    <tr>\n",
       "      <th>2</th>\n",
       "      <td>Merujuk data Pusat Pengendalian Operasi Penang...</td>\n",
       "      <td>no</td>\n",
       "      <td>no</td>\n",
       "      <td>no</td>\n",
       "      <td>no</td>\n",
       "    </tr>\n",
       "    <tr>\n",
       "      <th>3</th>\n",
       "      <td>Adapun, daerah terdampak banjir adalah Tanah D...</td>\n",
       "      <td>no</td>\n",
       "      <td>yes</td>\n",
       "      <td>yes</td>\n",
       "      <td>yes</td>\n",
       "    </tr>\n",
       "    <tr>\n",
       "      <th>4</th>\n",
       "      <td>Kepala BPBD Sumbar, Erman Rahman, menyebut huj...</td>\n",
       "      <td>no</td>\n",
       "      <td>yes</td>\n",
       "      <td>yes</td>\n",
       "      <td>yes</td>\n",
       "    </tr>\n",
       "    <tr>\n",
       "      <th>5</th>\n",
       "      <td>\"Hingga saat ini kami masih mendata korban ban...</td>\n",
       "      <td>no</td>\n",
       "      <td>no</td>\n",
       "      <td>no</td>\n",
       "      <td>no</td>\n",
       "    </tr>\n",
       "    <tr>\n",
       "      <th>6</th>\n",
       "      <td>Banjir yang terjadi membuat sebuah jembatan se...</td>\n",
       "      <td>no</td>\n",
       "      <td>no</td>\n",
       "      <td>yes</td>\n",
       "      <td>yes</td>\n",
       "    </tr>\n",
       "    <tr>\n",
       "      <th>7</th>\n",
       "      <td>Jembatan itu berada di Kecamatan Bonjol, Kabup...</td>\n",
       "      <td>no</td>\n",
       "      <td>no</td>\n",
       "      <td>no</td>\n",
       "      <td>no</td>\n",
       "    </tr>\n",
       "    <tr>\n",
       "      <th>8</th>\n",
       "      <td>Camat Bonjol, Yohanis, menyebut jembatan terse...</td>\n",
       "      <td>no</td>\n",
       "      <td>no</td>\n",
       "      <td>no</td>\n",
       "      <td>no</td>\n",
       "    </tr>\n",
       "    <tr>\n",
       "      <th>9</th>\n",
       "      <td>Ia berkata, banjir juga membuat jalan di sekit...</td>\n",
       "      <td>no</td>\n",
       "      <td>no</td>\n",
       "      <td>no</td>\n",
       "      <td>no</td>\n",
       "    </tr>\n",
       "    <tr>\n",
       "      <th>10</th>\n",
       "      <td>\"Jembatan ini salah satu akses bagi pengendara...</td>\n",
       "      <td>no</td>\n",
       "      <td>no</td>\n",
       "      <td>no</td>\n",
       "      <td>no</td>\n",
       "    </tr>\n",
       "    <tr>\n",
       "      <th>11</th>\n",
       "      <td>Yohanis menyebut jembatan itu berpotensi hanyu...</td>\n",
       "      <td>no</td>\n",
       "      <td>no</td>\n",
       "      <td>no</td>\n",
       "      <td>no</td>\n",
       "    </tr>\n",
       "    <tr>\n",
       "      <th>12</th>\n",
       "      <td>\"Kami mengimbau warga Bonjol dan sekitarnya ti...</td>\n",
       "      <td>no</td>\n",
       "      <td>no</td>\n",
       "      <td>no</td>\n",
       "      <td>no</td>\n",
       "    </tr>\n",
       "    <tr>\n",
       "      <th>13</th>\n",
       "      <td>Jalan lintas Sumatera di Kelurahan Berangin, B...</td>\n",
       "      <td>no</td>\n",
       "      <td>no</td>\n",
       "      <td>no</td>\n",
       "      <td>no</td>\n",
       "    </tr>\n",
       "    <tr>\n",
       "      <th>14</th>\n",
       "      <td>Polisi kini menerapkan sistem buka-tutup di ja...</td>\n",
       "      <td>no</td>\n",
       "      <td>no</td>\n",
       "      <td>no</td>\n",
       "      <td>no</td>\n",
       "    </tr>\n",
       "    <tr>\n",
       "      <th>15</th>\n",
       "      <td>Kepala BPBD Pasaman, Masfet Kenedi menuturkan,...</td>\n",
       "      <td>no</td>\n",
       "      <td>no</td>\n",
       "      <td>no</td>\n",
       "      <td>yes</td>\n",
       "    </tr>\n",
       "    <tr>\n",
       "      <th>16</th>\n",
       "      <td>Pohon kayu sepanjang 18 meter juga tumbang ke...</td>\n",
       "      <td>no</td>\n",
       "      <td>no</td>\n",
       "      <td>no</td>\n",
       "      <td>no</td>\n",
       "    </tr>\n",
       "    <tr>\n",
       "      <th>17</th>\n",
       "      <td>Sebuah mobil ambulans dilaporkan terjebak mate...</td>\n",
       "      <td>no</td>\n",
       "      <td>no</td>\n",
       "      <td>no</td>\n",
       "      <td>no</td>\n",
       "    </tr>\n",
       "    <tr>\n",
       "      <th>18</th>\n",
       "      <td>Mobil itu dalam posisi menanjak, lantas terjeb...</td>\n",
       "      <td>no</td>\n",
       "      <td>no</td>\n",
       "      <td>no</td>\n",
       "      <td>no</td>\n",
       "    </tr>\n",
       "    <tr>\n",
       "      <th>19</th>\n",
       "      <td>Kepala Dinas Kesehatan Pasaman, Amdarisman, me...</td>\n",
       "      <td>no</td>\n",
       "      <td>no</td>\n",
       "      <td>no</td>\n",
       "      <td>no</td>\n",
       "    </tr>\n",
       "    <tr>\n",
       "      <th>20</th>\n",
       "      <td>\"Tidak ada korban jiwa.</td>\n",
       "      <td>no</td>\n",
       "      <td>no</td>\n",
       "      <td>no</td>\n",
       "      <td>no</td>\n",
       "    </tr>\n",
       "    <tr>\n",
       "      <th>21</th>\n",
       "      <td>Pasien (ibu hamil) sudah dirujuk ke RSUD Pasam...</td>\n",
       "      <td>no</td>\n",
       "      <td>no</td>\n",
       "      <td>no</td>\n",
       "      <td>no</td>\n",
       "    </tr>\n",
       "    <tr>\n",
       "      <th>22</th>\n",
       "      <td>Longsor yang terjadi Ranah Batu, Jorong Piubua...</td>\n",
       "      <td>no</td>\n",
       "      <td>no</td>\n",
       "      <td>no</td>\n",
       "      <td>yes</td>\n",
       "    </tr>\n",
       "    <tr>\n",
       "      <th>23</th>\n",
       "      <td>Dua orang dilaporkan tewas tertimbun material ...</td>\n",
       "      <td>no</td>\n",
       "      <td>no</td>\n",
       "      <td>no</td>\n",
       "      <td>no</td>\n",
       "    </tr>\n",
       "    <tr>\n",
       "      <th>24</th>\n",
       "      <td>Wali Nagari Jorong Piubuah, Haris, menyebut lo...</td>\n",
       "      <td>no</td>\n",
       "      <td>no</td>\n",
       "      <td>yes</td>\n",
       "      <td>yes</td>\n",
       "    </tr>\n",
       "    <tr>\n",
       "      <th>25</th>\n",
       "      <td>Harie berkata, longsor terjadi secara cepat se...</td>\n",
       "      <td>no</td>\n",
       "      <td>no</td>\n",
       "      <td>no</td>\n",
       "      <td>no</td>\n",
       "    </tr>\n",
       "    <tr>\n",
       "      <th>26</th>\n",
       "      <td>Longsor berasal dari Gunung Sago yang kemudian...</td>\n",
       "      <td>no</td>\n",
       "      <td>no</td>\n",
       "      <td>yes</td>\n",
       "      <td>yes</td>\n",
       "    </tr>\n",
       "    <tr>\n",
       "      <th>27</th>\n",
       "      <td>\"Ada dua korban, salah satunya ditemukan 2 ki...</td>\n",
       "      <td>no</td>\n",
       "      <td>no</td>\n",
       "      <td>no</td>\n",
       "      <td>no</td>\n",
       "    </tr>\n",
       "    <tr>\n",
       "      <th>28</th>\n",
       "      <td>Korban ini sedang hamil,\" kata Haris.</td>\n",
       "      <td>no</td>\n",
       "      <td>no</td>\n",
       "      <td>no</td>\n",
       "      <td>no</td>\n",
       "    </tr>\n",
       "    <tr>\n",
       "      <th>29</th>\n",
       "      <td>Kerusakan di lembah Gunung Sago itu mencapai p...</td>\n",
       "      <td>no</td>\n",
       "      <td>no</td>\n",
       "      <td>no</td>\n",
       "      <td>no</td>\n",
       "    </tr>\n",
       "    <tr>\n",
       "      <th>30</th>\n",
       "      <td>\"Total korban terdampak sebanyak 26 jiwa, rata...</td>\n",
       "      <td>no</td>\n",
       "      <td>no</td>\n",
       "      <td>no</td>\n",
       "      <td>yes</td>\n",
       "    </tr>\n",
       "  </tbody>\n",
       "</table>\n",
       "</div>"
      ],
      "text/plain": [
       "                                              dokumen 0.05  0.1  0.2  0.3\n",
       "0   Sejumlah kabupaten dan kota di Sumatera Barat ...  yes  yes  yes  yes\n",
       "1    Bencana alam ini dilaporkan menyebabkan enam ...  yes  yes  yes  yes\n",
       "2   Merujuk data Pusat Pengendalian Operasi Penang...   no   no   no   no\n",
       "3   Adapun, daerah terdampak banjir adalah Tanah D...   no  yes  yes  yes\n",
       "4   Kepala BPBD Sumbar, Erman Rahman, menyebut huj...   no  yes  yes  yes\n",
       "5   \"Hingga saat ini kami masih mendata korban ban...   no   no   no   no\n",
       "6   Banjir yang terjadi membuat sebuah jembatan se...   no   no  yes  yes\n",
       "7   Jembatan itu berada di Kecamatan Bonjol, Kabup...   no   no   no   no\n",
       "8   Camat Bonjol, Yohanis, menyebut jembatan terse...   no   no   no   no\n",
       "9   Ia berkata, banjir juga membuat jalan di sekit...   no   no   no   no\n",
       "10  \"Jembatan ini salah satu akses bagi pengendara...   no   no   no   no\n",
       "11  Yohanis menyebut jembatan itu berpotensi hanyu...   no   no   no   no\n",
       "12  \"Kami mengimbau warga Bonjol dan sekitarnya ti...   no   no   no   no\n",
       "13  Jalan lintas Sumatera di Kelurahan Berangin, B...   no   no   no   no\n",
       "14  Polisi kini menerapkan sistem buka-tutup di ja...   no   no   no   no\n",
       "15  Kepala BPBD Pasaman, Masfet Kenedi menuturkan,...   no   no   no  yes\n",
       "16   Pohon kayu sepanjang 18 meter juga tumbang ke...   no   no   no   no\n",
       "17  Sebuah mobil ambulans dilaporkan terjebak mate...   no   no   no   no\n",
       "18  Mobil itu dalam posisi menanjak, lantas terjeb...   no   no   no   no\n",
       "19  Kepala Dinas Kesehatan Pasaman, Amdarisman, me...   no   no   no   no\n",
       "20                           \"Tidak ada korban jiwa.    no   no   no   no\n",
       "21  Pasien (ibu hamil) sudah dirujuk ke RSUD Pasam...   no   no   no   no\n",
       "22  Longsor yang terjadi Ranah Batu, Jorong Piubua...   no   no   no  yes\n",
       "23  Dua orang dilaporkan tewas tertimbun material ...   no   no   no   no\n",
       "24  Wali Nagari Jorong Piubuah, Haris, menyebut lo...   no   no  yes  yes\n",
       "25  Harie berkata, longsor terjadi secara cepat se...   no   no   no   no\n",
       "26  Longsor berasal dari Gunung Sago yang kemudian...   no   no  yes  yes\n",
       "27   \"Ada dua korban, salah satunya ditemukan 2 ki...   no   no   no   no\n",
       "28              Korban ini sedang hamil,\" kata Haris.   no   no   no   no\n",
       "29  Kerusakan di lembah Gunung Sago itu mencapai p...   no   no   no   no\n",
       "30  \"Total korban terdampak sebanyak 26 jiwa, rata...   no   no   no  yes"
      ]
     },
     "execution_count": 6,
     "metadata": {},
     "output_type": "execute_result"
    }
   ],
   "source": [
    "hasil_pakar_dok4"
   ]
  },
  {
   "cell_type": "code",
   "execution_count": 7,
   "metadata": {},
   "outputs": [],
   "source": [
    "hasil_sistem = [hasil_sistem_dok1,\n",
    "hasil_sistem_dok2,\n",
    "hasil_sistem_dok3,\n",
    "hasil_sistem_dok4,\n",
    "hasil_sistem_dok5,\n",
    "hasil_sistem_dok6,\n",
    "hasil_sistem_dok7,\n",
    "hasil_sistem_dok8,\n",
    "hasil_sistem_dok9,\n",
    "hasil_sistem_dok10]"
   ]
  },
  {
   "cell_type": "code",
   "execution_count": 8,
   "metadata": {},
   "outputs": [],
   "source": [
    "hasil_pakar = [hasil_pakar_dok1,\n",
    "hasil_pakar_dok2,\n",
    "hasil_pakar_dok3,\n",
    "hasil_pakar_dok4,\n",
    "hasil_pakar_dok5,\n",
    "hasil_pakar_dok6,\n",
    "hasil_pakar_dok7,\n",
    "hasil_pakar_dok8,\n",
    "hasil_pakar_dok9,\n",
    "hasil_pakar_dok10]"
   ]
  },
  {
   "cell_type": "markdown",
   "metadata": {},
   "source": [
    "# delete judul tiap hasil sistem"
   ]
  },
  {
   "cell_type": "code",
   "execution_count": 9,
   "metadata": {},
   "outputs": [],
   "source": [
    "for index, item in enumerate(hasil_sistem):\n",
    "    hasil_sistem[index] = hasil_sistem[index].iloc[1:]"
   ]
  },
  {
   "cell_type": "code",
   "execution_count": 10,
   "metadata": {},
   "outputs": [
    {
     "data": {
      "text/plain": [
       "31"
      ]
     },
     "execution_count": 10,
     "metadata": {},
     "output_type": "execute_result"
    }
   ],
   "source": [
    "len(hasil_sistem[3])"
   ]
  },
  {
   "cell_type": "code",
   "execution_count": 11,
   "metadata": {},
   "outputs": [
    {
     "data": {
      "text/plain": [
       "31"
      ]
     },
     "execution_count": 11,
     "metadata": {},
     "output_type": "execute_result"
    }
   ],
   "source": [
    "len(hasil_pakar_dok4)"
   ]
  },
  {
   "cell_type": "code",
   "execution_count": 12,
   "metadata": {},
   "outputs": [],
   "source": [
    "# hasil_pakar_dok9"
   ]
  },
  {
   "cell_type": "code",
   "execution_count": 13,
   "metadata": {},
   "outputs": [],
   "source": [
    "# hasil_sistem[8]"
   ]
  },
  {
   "cell_type": "code",
   "execution_count": 14,
   "metadata": {},
   "outputs": [],
   "source": [
    "# hasil_sistem_dok1\n",
    "# hasil_sistem_dok1 = hasil_sistem_dok1[-1,]\n",
    "# hasil_sistem_dok1\n",
    "# aa = hasil_sistem_dok4.iloc[1:]\n",
    "# aa"
   ]
  },
  {
   "cell_type": "code",
   "execution_count": 15,
   "metadata": {},
   "outputs": [],
   "source": [
    "# hasil_sistem_dok5"
   ]
  },
  {
   "cell_type": "code",
   "execution_count": 16,
   "metadata": {
    "scrolled": true
   },
   "outputs": [
    {
     "name": "stderr",
     "output_type": "stream",
     "text": [
      "D:\\anaconda\\lib\\site-packages\\ipykernel_launcher.py:12: RuntimeWarning: invalid value encountered in double_scalars\n",
      "  if sys.path[0] == '':\n"
     ]
    }
   ],
   "source": [
    "precision_005_all = []\n",
    "recall_005_all = []\n",
    "fmeasure_005_all = []\n",
    "for i in range(len(hasil_pakar)):\n",
    "#     print(i)\n",
    "    cm_005 = confusion_matrix(hasil_pakar[i][\"0.05\"],hasil_sistem[i][\"0.05\"], labels=[\"yes\",\"no\"])\n",
    "#     print(cm_005)\n",
    "    precision_005 = cm_005[0][0]/(cm_005[0][0]+cm_005[0][1])\n",
    "#     print(precision_005)\n",
    "    recall_005 = cm_005[0][0]/(cm_005[0][0]+cm_005[1][0])\n",
    "#     print(recall_005)\n",
    "    fmeasure_005 = (2*precision_005*recall_005)/(precision_005+recall_005)\n",
    "#     print(fmeasure_005)\n",
    "    precision_005_all.append(precision_005)\n",
    "    recall_005_all.append(recall_005)\n",
    "    fmeasure_005_all.append(fmeasure_005)    "
   ]
  },
  {
   "cell_type": "code",
   "execution_count": null,
   "metadata": {},
   "outputs": [],
   "source": []
  },
  {
   "cell_type": "code",
   "execution_count": null,
   "metadata": {},
   "outputs": [],
   "source": []
  },
  {
   "cell_type": "code",
   "execution_count": 17,
   "metadata": {},
   "outputs": [
    {
     "name": "stderr",
     "output_type": "stream",
     "text": [
      "D:\\anaconda\\lib\\site-packages\\ipykernel_launcher.py:12: RuntimeWarning: invalid value encountered in double_scalars\n",
      "  if sys.path[0] == '':\n"
     ]
    }
   ],
   "source": [
    "precision_01_all = []\n",
    "recall_01_all = []\n",
    "fmeasure_01_all = []\n",
    "for i in range(len(hasil_pakar)):\n",
    "#     print(i)\n",
    "    cm_01 = confusion_matrix(hasil_pakar[i][\"0.1\"],hasil_sistem[i][\"0.1\"], labels=[\"yes\",\"no\"])\n",
    "#     print(cm_01)\n",
    "    precision_01 = cm_01[0][0]/(cm_01[0][0]+cm_01[0][1])\n",
    "#     print(\"pre : \",precision_01)\n",
    "    recall_01 = cm_01[0][0]/(cm_01[0][0]+cm_01[1][0])\n",
    "#     print(\"re : \", recall_01)\n",
    "    fmeasure_01 = (2*precision_01*recall_01)/(precision_01+recall_01)\n",
    "#     print(\"fm : \", fmeasure_01)\n",
    "    precision_01_all.append(precision_01)\n",
    "    recall_01_all.append(recall_01)\n",
    "    fmeasure_01_all.append(fmeasure_01)    "
   ]
  },
  {
   "cell_type": "code",
   "execution_count": 18,
   "metadata": {},
   "outputs": [
    {
     "data": {
      "text/plain": [
       "array([[5, 3],\n",
       "       [2, 2]], dtype=int64)"
      ]
     },
     "execution_count": 18,
     "metadata": {},
     "output_type": "execute_result"
    }
   ],
   "source": [
    "y_true = [1,1,1,1,1,1,1,1,0,0,0,0]\n",
    "y_pred = [1,1,1,1,1,0,0,0,1,1,0,0]\n",
    "confusion_matrix(y_true,y_pred, labels=[1,0])"
   ]
  },
  {
   "cell_type": "code",
   "execution_count": 19,
   "metadata": {},
   "outputs": [],
   "source": [
    "precision_02_all = []\n",
    "recall_02_all = []\n",
    "fmeasure_02_all = []\n",
    "for i in range(len(hasil_pakar)):\n",
    "#     print(i)\n",
    "    cm_02 = confusion_matrix(hasil_pakar[i][\"0.2\"],hasil_sistem[i][\"0.2\"], labels=[\"yes\",\"no\"])\n",
    "#     print(cm_02)\n",
    "    precision_02 = cm_02[0][0]/(cm_02[0][0]+cm_02[0][1])\n",
    "    recall_02 = cm_02[0][0]/(cm_02[0][0]+cm_02[1][0])\n",
    "    fmeasure_02 = (2*precision_02*recall_02)/(precision_02+recall_02)\n",
    "    precision_02_all.append(precision_02)\n",
    "    recall_02_all.append(recall_02)\n",
    "    fmeasure_02_all.append(fmeasure_02)    "
   ]
  },
  {
   "cell_type": "code",
   "execution_count": 20,
   "metadata": {},
   "outputs": [
    {
     "name": "stdout",
     "output_type": "stream",
     "text": [
      "[[ 5  7]\n",
      " [ 7 20]]\n",
      "[[ 5  3]\n",
      " [ 3 15]]\n",
      "[[ 4  5]\n",
      " [ 5 13]]\n",
      "[[ 5  5]\n",
      " [ 5 16]]\n",
      "[[ 9  7]\n",
      " [ 7 30]]\n",
      "[[ 4  5]\n",
      " [ 5 15]]\n",
      "[[ 7  3]\n",
      " [ 3 20]]\n",
      "[[ 7  4]\n",
      " [ 4 19]]\n",
      "[[ 8  4]\n",
      " [ 4 24]]\n",
      "[[12  6]\n",
      " [ 6 33]]\n"
     ]
    }
   ],
   "source": [
    "precision_03_all = []\n",
    "recall_03_all = []\n",
    "fmeasure_03_all = []\n",
    "for i in range(len(hasil_pakar)):\n",
    "#     print(i)\n",
    "    cm_03 = confusion_matrix(hasil_pakar[i][\"0.3\"],hasil_sistem[i][\"0.3\"], labels=[\"yes\",\"no\"])\n",
    "    print(cm_03)\n",
    "    precision_03 = cm_03[0][0]/(cm_03[0][0]+cm_03[0][1])\n",
    "    recall_03 = cm_03[0][0]/(cm_03[0][0]+cm_03[1][0])\n",
    "    fmeasure_03 = (2*precision_03*recall_03)/(precision_03+recall_03)\n",
    "    precision_03_all.append(precision_03)\n",
    "    recall_03_all.append(recall_03)\n",
    "    fmeasure_03_all.append(fmeasure_03) "
   ]
  },
  {
   "cell_type": "code",
   "execution_count": null,
   "metadata": {},
   "outputs": [],
   "source": []
  },
  {
   "cell_type": "code",
   "execution_count": 21,
   "metadata": {},
   "outputs": [],
   "source": [
    "dokumen_uji = [\"dokumen 1\",\n",
    "\"dokumen 2\",\n",
    "\"dokumen 3\",\n",
    "\"dokumen 4\",\n",
    "\"dokumen 5\",\n",
    "\"dokumen 6\",\n",
    "\"dokumen 7\",\n",
    "\"dokumen 8\",\n",
    "\"dokumen 9\",\n",
    "\"dokumen 10\"]"
   ]
  },
  {
   "cell_type": "code",
   "execution_count": 22,
   "metadata": {},
   "outputs": [],
   "source": [
    "df_cm005 = pd.DataFrame(columns=['dokumen uji','precision', 'recall', 'fmeasure'])\n",
    "df_cm005[\"dokumen uji\"] = dokumen_uji\n",
    "df_cm005[\"precision\"] = precision_005_all\n",
    "df_cm005[\"recall\"] = recall_005_all\n",
    "df_cm005[\"fmeasure\"] = fmeasure_005_all\n",
    "df_cm005=df_cm005.fillna(0)"
   ]
  },
  {
   "cell_type": "code",
   "execution_count": 23,
   "metadata": {},
   "outputs": [
    {
     "data": {
      "text/plain": [
       "<matplotlib.axes._subplots.AxesSubplot at 0x97365f0>"
      ]
     },
     "execution_count": 23,
     "metadata": {},
     "output_type": "execute_result"
    }
   ],
   "source": [
    "df_cm005.plot.line()"
   ]
  },
  {
   "cell_type": "code",
   "execution_count": 24,
   "metadata": {},
   "outputs": [
    {
     "data": {
      "text/html": [
       "<div>\n",
       "<style scoped>\n",
       "    .dataframe tbody tr th:only-of-type {\n",
       "        vertical-align: middle;\n",
       "    }\n",
       "\n",
       "    .dataframe tbody tr th {\n",
       "        vertical-align: top;\n",
       "    }\n",
       "\n",
       "    .dataframe thead th {\n",
       "        text-align: right;\n",
       "    }\n",
       "</style>\n",
       "<table border=\"1\" class=\"dataframe\">\n",
       "  <thead>\n",
       "    <tr style=\"text-align: right;\">\n",
       "      <th></th>\n",
       "      <th>dokumen uji</th>\n",
       "      <th>precision</th>\n",
       "      <th>recall</th>\n",
       "      <th>fmeasure</th>\n",
       "    </tr>\n",
       "  </thead>\n",
       "  <tbody>\n",
       "    <tr>\n",
       "      <th>0</th>\n",
       "      <td>dokumen 1</td>\n",
       "      <td>0.500000</td>\n",
       "      <td>0.500000</td>\n",
       "      <td>0.500000</td>\n",
       "    </tr>\n",
       "    <tr>\n",
       "      <th>1</th>\n",
       "      <td>dokumen 2</td>\n",
       "      <td>0.500000</td>\n",
       "      <td>0.500000</td>\n",
       "      <td>0.500000</td>\n",
       "    </tr>\n",
       "    <tr>\n",
       "      <th>2</th>\n",
       "      <td>dokumen 3</td>\n",
       "      <td>0.500000</td>\n",
       "      <td>0.500000</td>\n",
       "      <td>0.500000</td>\n",
       "    </tr>\n",
       "    <tr>\n",
       "      <th>3</th>\n",
       "      <td>dokumen 4</td>\n",
       "      <td>0.000000</td>\n",
       "      <td>0.000000</td>\n",
       "      <td>0.000000</td>\n",
       "    </tr>\n",
       "    <tr>\n",
       "      <th>4</th>\n",
       "      <td>dokumen 5</td>\n",
       "      <td>0.333333</td>\n",
       "      <td>0.333333</td>\n",
       "      <td>0.333333</td>\n",
       "    </tr>\n",
       "    <tr>\n",
       "      <th>5</th>\n",
       "      <td>dokumen 6</td>\n",
       "      <td>0.000000</td>\n",
       "      <td>0.000000</td>\n",
       "      <td>0.000000</td>\n",
       "    </tr>\n",
       "    <tr>\n",
       "      <th>6</th>\n",
       "      <td>dokumen 7</td>\n",
       "      <td>0.000000</td>\n",
       "      <td>0.000000</td>\n",
       "      <td>0.000000</td>\n",
       "    </tr>\n",
       "    <tr>\n",
       "      <th>7</th>\n",
       "      <td>dokumen 8</td>\n",
       "      <td>0.500000</td>\n",
       "      <td>0.500000</td>\n",
       "      <td>0.500000</td>\n",
       "    </tr>\n",
       "    <tr>\n",
       "      <th>8</th>\n",
       "      <td>dokumen 9</td>\n",
       "      <td>0.000000</td>\n",
       "      <td>0.000000</td>\n",
       "      <td>0.000000</td>\n",
       "    </tr>\n",
       "    <tr>\n",
       "      <th>9</th>\n",
       "      <td>dokumen 10</td>\n",
       "      <td>0.333333</td>\n",
       "      <td>0.333333</td>\n",
       "      <td>0.333333</td>\n",
       "    </tr>\n",
       "  </tbody>\n",
       "</table>\n",
       "</div>"
      ],
      "text/plain": [
       "  dokumen uji  precision    recall  fmeasure\n",
       "0   dokumen 1   0.500000  0.500000  0.500000\n",
       "1   dokumen 2   0.500000  0.500000  0.500000\n",
       "2   dokumen 3   0.500000  0.500000  0.500000\n",
       "3   dokumen 4   0.000000  0.000000  0.000000\n",
       "4   dokumen 5   0.333333  0.333333  0.333333\n",
       "5   dokumen 6   0.000000  0.000000  0.000000\n",
       "6   dokumen 7   0.000000  0.000000  0.000000\n",
       "7   dokumen 8   0.500000  0.500000  0.500000\n",
       "8   dokumen 9   0.000000  0.000000  0.000000\n",
       "9  dokumen 10   0.333333  0.333333  0.333333"
      ]
     },
     "execution_count": 24,
     "metadata": {},
     "output_type": "execute_result"
    }
   ],
   "source": [
    "df_cm005"
   ]
  },
  {
   "cell_type": "code",
   "execution_count": 25,
   "metadata": {},
   "outputs": [
    {
     "data": {
      "image/png": "[encoded data removed]",
      "text/plain": [
       "<Figure size 432x288 with 1 Axes>"
      ]
     },
     "metadata": {},
     "output_type": "display_data"
    }
   ],
   "source": [
    "aa = df_cm005.copy().drop(columns=[\"dokumen uji\"]).plot.line()"
   ]
  },
  {
   "cell_type": "code",
   "execution_count": 26,
   "metadata": {},
   "outputs": [],
   "source": [
    "# df_cm005"
   ]
  },
  {
   "cell_type": "code",
   "execution_count": 27,
   "metadata": {},
   "outputs": [],
   "source": [
    "import numpy as np"
   ]
  },
  {
   "cell_type": "code",
   "execution_count": 28,
   "metadata": {},
   "outputs": [],
   "source": [
    "df_cm01 = pd.DataFrame(columns=['dokumen uji','precision', 'recall', 'fmeasure'])\n",
    "df_cm01[\"dokumen uji\"] = dokumen_uji\n",
    "df_cm01[\"precision\"] = precision_01_all\n",
    "df_cm01[\"recall\"] = recall_01_all\n",
    "df_cm01[\"fmeasure\"] = fmeasure_01_all\n",
    "df_cm01=df_cm01.fillna(0)"
   ]
  },
  {
   "cell_type": "code",
   "execution_count": 29,
   "metadata": {
    "scrolled": true
   },
   "outputs": [
    {
     "data": {
      "text/html": [
       "<div>\n",
       "<style scoped>\n",
       "    .dataframe tbody tr th:only-of-type {\n",
       "        vertical-align: middle;\n",
       "    }\n",
       "\n",
       "    .dataframe tbody tr th {\n",
       "        vertical-align: top;\n",
       "    }\n",
       "\n",
       "    .dataframe thead th {\n",
       "        text-align: right;\n",
       "    }\n",
       "</style>\n",
       "<table border=\"1\" class=\"dataframe\">\n",
       "  <thead>\n",
       "    <tr style=\"text-align: right;\">\n",
       "      <th></th>\n",
       "      <th>dokumen uji</th>\n",
       "      <th>precision</th>\n",
       "      <th>recall</th>\n",
       "      <th>fmeasure</th>\n",
       "    </tr>\n",
       "  </thead>\n",
       "  <tbody>\n",
       "    <tr>\n",
       "      <th>0</th>\n",
       "      <td>dokumen 1</td>\n",
       "      <td>0.500000</td>\n",
       "      <td>0.500000</td>\n",
       "      <td>0.500000</td>\n",
       "    </tr>\n",
       "    <tr>\n",
       "      <th>1</th>\n",
       "      <td>dokumen 2</td>\n",
       "      <td>0.666667</td>\n",
       "      <td>0.666667</td>\n",
       "      <td>0.666667</td>\n",
       "    </tr>\n",
       "    <tr>\n",
       "      <th>2</th>\n",
       "      <td>dokumen 3</td>\n",
       "      <td>0.333333</td>\n",
       "      <td>0.333333</td>\n",
       "      <td>0.333333</td>\n",
       "    </tr>\n",
       "    <tr>\n",
       "      <th>3</th>\n",
       "      <td>dokumen 4</td>\n",
       "      <td>0.000000</td>\n",
       "      <td>0.000000</td>\n",
       "      <td>0.000000</td>\n",
       "    </tr>\n",
       "    <tr>\n",
       "      <th>4</th>\n",
       "      <td>dokumen 5</td>\n",
       "      <td>0.500000</td>\n",
       "      <td>0.500000</td>\n",
       "      <td>0.500000</td>\n",
       "    </tr>\n",
       "    <tr>\n",
       "      <th>5</th>\n",
       "      <td>dokumen 6</td>\n",
       "      <td>0.000000</td>\n",
       "      <td>0.000000</td>\n",
       "      <td>0.000000</td>\n",
       "    </tr>\n",
       "    <tr>\n",
       "      <th>6</th>\n",
       "      <td>dokumen 7</td>\n",
       "      <td>0.250000</td>\n",
       "      <td>0.250000</td>\n",
       "      <td>0.250000</td>\n",
       "    </tr>\n",
       "    <tr>\n",
       "      <th>7</th>\n",
       "      <td>dokumen 8</td>\n",
       "      <td>0.500000</td>\n",
       "      <td>0.500000</td>\n",
       "      <td>0.500000</td>\n",
       "    </tr>\n",
       "    <tr>\n",
       "      <th>8</th>\n",
       "      <td>dokumen 9</td>\n",
       "      <td>0.250000</td>\n",
       "      <td>0.250000</td>\n",
       "      <td>0.250000</td>\n",
       "    </tr>\n",
       "    <tr>\n",
       "      <th>9</th>\n",
       "      <td>dokumen 10</td>\n",
       "      <td>0.500000</td>\n",
       "      <td>0.500000</td>\n",
       "      <td>0.500000</td>\n",
       "    </tr>\n",
       "  </tbody>\n",
       "</table>\n",
       "</div>"
      ],
      "text/plain": [
       "  dokumen uji  precision    recall  fmeasure\n",
       "0   dokumen 1   0.500000  0.500000  0.500000\n",
       "1   dokumen 2   0.666667  0.666667  0.666667\n",
       "2   dokumen 3   0.333333  0.333333  0.333333\n",
       "3   dokumen 4   0.000000  0.000000  0.000000\n",
       "4   dokumen 5   0.500000  0.500000  0.500000\n",
       "5   dokumen 6   0.000000  0.000000  0.000000\n",
       "6   dokumen 7   0.250000  0.250000  0.250000\n",
       "7   dokumen 8   0.500000  0.500000  0.500000\n",
       "8   dokumen 9   0.250000  0.250000  0.250000\n",
       "9  dokumen 10   0.500000  0.500000  0.500000"
      ]
     },
     "execution_count": 29,
     "metadata": {},
     "output_type": "execute_result"
    }
   ],
   "source": [
    "df_cm01"
   ]
  },
  {
   "cell_type": "code",
   "execution_count": null,
   "metadata": {},
   "outputs": [],
   "source": []
  },
  {
   "cell_type": "code",
   "execution_count": 30,
   "metadata": {},
   "outputs": [
    {
     "data": {
      "text/plain": [
       "<matplotlib.axes._subplots.AxesSubplot at 0x9bb66d0>"
      ]
     },
     "execution_count": 30,
     "metadata": {},
     "output_type": "execute_result"
    },
    {
     "data": {
      "image/png": "[encoded data removed]",
      "text/plain": [
       "<Figure size 432x288 with 1 Axes>"
      ]
     },
     "metadata": {},
     "output_type": "display_data"
    }
   ],
   "source": [
    "df_cm01.plot.line()"
   ]
  },
  {
   "cell_type": "code",
   "execution_count": 31,
   "metadata": {},
   "outputs": [],
   "source": [
    "df_cm02 = pd.DataFrame(columns=['dokumen uji','precision', 'recall', 'fmeasure'])\n",
    "df_cm02[\"dokumen uji\"] = dokumen_uji\n",
    "df_cm02[\"precision\"] = precision_02_all\n",
    "df_cm02[\"recall\"] = recall_02_all\n",
    "df_cm02[\"fmeasure\"] = fmeasure_02_all\n",
    "df_cm02=df_cm02.fillna(0)"
   ]
  },
  {
   "cell_type": "code",
   "execution_count": 32,
   "metadata": {},
   "outputs": [
    {
     "data": {
      "text/plain": [
       "<matplotlib.axes._subplots.AxesSubplot at 0x9c0dbd0>"
      ]
     },
     "execution_count": 32,
     "metadata": {},
     "output_type": "execute_result"
    },
    {
     "data": {
      "image/png": "[encoded data removed]",
      "text/plain": [
       "<Figure size 432x288 with 1 Axes>"
      ]
     },
     "metadata": {},
     "output_type": "display_data"
    }
   ],
   "source": [
    "df_cm02.plot.line()"
   ]
  },
  {
   "cell_type": "code",
   "execution_count": 33,
   "metadata": {},
   "outputs": [],
   "source": [
    "df_cm03 = pd.DataFrame(columns=['dokumen uji','precision', 'recall', 'fmeasure'])\n",
    "df_cm03[\"dokumen uji\"] = dokumen_uji\n",
    "df_cm03[\"precision\"] = precision_03_all\n",
    "df_cm03[\"recall\"] = recall_03_all\n",
    "df_cm03[\"fmeasure\"] = fmeasure_03_all\n",
    "df_cm03=df_cm03.fillna(0)"
   ]
  },
  {
   "cell_type": "code",
   "execution_count": 34,
   "metadata": {
    "scrolled": false
   },
   "outputs": [
    {
     "data": {
      "text/plain": [
       "<matplotlib.axes._subplots.AxesSubplot at 0x9c15e70>"
      ]
     },
     "execution_count": 34,
     "metadata": {},
     "output_type": "execute_result"
    },
    {
     "data": {
      "image/png": "[encoded data removed]",
      "text/plain": [
       "<Figure size 432x288 with 1 Axes>"
      ]
     },
     "metadata": {},
     "output_type": "display_data"
    }
   ],
   "source": [
    "df_cm03.plot.line()"
   ]
  },
  {
   "cell_type": "markdown",
   "metadata": {},
   "source": [
    "# export to csv"
   ]
  },
  {
   "cell_type": "code",
   "execution_count": 35,
   "metadata": {},
   "outputs": [],
   "source": [
    "df_cm005.to_csv(\"hasil sistem 100 iterasi dengan judul kurang 1/compression rate 005.csv\")\n",
    "df_cm01.to_csv(\"hasil sistem 100 iterasi dengan judul kurang 1/compression rate 01.csv\")\n",
    "df_cm02.to_csv(\"hasil sistem 100 iterasi dengan judul kurang 1/compression rate 02.csv\")\n",
    "df_cm03.to_csv(\"hasil sistem 100 iterasi dengan judul kurang 1/compression rate 03.csv\")"
   ]
  },
  {
   "cell_type": "code",
   "execution_count": 36,
   "metadata": {},
   "outputs": [
    {
     "data": {
      "text/html": [
       "<div>\n",
       "<style scoped>\n",
       "    .dataframe tbody tr th:only-of-type {\n",
       "        vertical-align: middle;\n",
       "    }\n",
       "\n",
       "    .dataframe tbody tr th {\n",
       "        vertical-align: top;\n",
       "    }\n",
       "\n",
       "    .dataframe thead th {\n",
       "        text-align: right;\n",
       "    }\n",
       "</style>\n",
       "<table border=\"1\" class=\"dataframe\">\n",
       "  <thead>\n",
       "    <tr style=\"text-align: right;\">\n",
       "      <th></th>\n",
       "      <th>dokumen uji</th>\n",
       "      <th>precision</th>\n",
       "      <th>recall</th>\n",
       "      <th>fmeasure</th>\n",
       "    </tr>\n",
       "  </thead>\n",
       "  <tbody>\n",
       "    <tr>\n",
       "      <th>0</th>\n",
       "      <td>dokumen 1</td>\n",
       "      <td>0.416667</td>\n",
       "      <td>0.416667</td>\n",
       "      <td>0.416667</td>\n",
       "    </tr>\n",
       "    <tr>\n",
       "      <th>1</th>\n",
       "      <td>dokumen 2</td>\n",
       "      <td>0.625000</td>\n",
       "      <td>0.625000</td>\n",
       "      <td>0.625000</td>\n",
       "    </tr>\n",
       "    <tr>\n",
       "      <th>2</th>\n",
       "      <td>dokumen 3</td>\n",
       "      <td>0.444444</td>\n",
       "      <td>0.444444</td>\n",
       "      <td>0.444444</td>\n",
       "    </tr>\n",
       "    <tr>\n",
       "      <th>3</th>\n",
       "      <td>dokumen 4</td>\n",
       "      <td>0.500000</td>\n",
       "      <td>0.500000</td>\n",
       "      <td>0.500000</td>\n",
       "    </tr>\n",
       "    <tr>\n",
       "      <th>4</th>\n",
       "      <td>dokumen 5</td>\n",
       "      <td>0.562500</td>\n",
       "      <td>0.562500</td>\n",
       "      <td>0.562500</td>\n",
       "    </tr>\n",
       "    <tr>\n",
       "      <th>5</th>\n",
       "      <td>dokumen 6</td>\n",
       "      <td>0.444444</td>\n",
       "      <td>0.444444</td>\n",
       "      <td>0.444444</td>\n",
       "    </tr>\n",
       "    <tr>\n",
       "      <th>6</th>\n",
       "      <td>dokumen 7</td>\n",
       "      <td>0.700000</td>\n",
       "      <td>0.700000</td>\n",
       "      <td>0.700000</td>\n",
       "    </tr>\n",
       "    <tr>\n",
       "      <th>7</th>\n",
       "      <td>dokumen 8</td>\n",
       "      <td>0.636364</td>\n",
       "      <td>0.636364</td>\n",
       "      <td>0.636364</td>\n",
       "    </tr>\n",
       "    <tr>\n",
       "      <th>8</th>\n",
       "      <td>dokumen 9</td>\n",
       "      <td>0.666667</td>\n",
       "      <td>0.666667</td>\n",
       "      <td>0.666667</td>\n",
       "    </tr>\n",
       "    <tr>\n",
       "      <th>9</th>\n",
       "      <td>dokumen 10</td>\n",
       "      <td>0.666667</td>\n",
       "      <td>0.666667</td>\n",
       "      <td>0.666667</td>\n",
       "    </tr>\n",
       "  </tbody>\n",
       "</table>\n",
       "</div>"
      ],
      "text/plain": [
       "  dokumen uji  precision    recall  fmeasure\n",
       "0   dokumen 1   0.416667  0.416667  0.416667\n",
       "1   dokumen 2   0.625000  0.625000  0.625000\n",
       "2   dokumen 3   0.444444  0.444444  0.444444\n",
       "3   dokumen 4   0.500000  0.500000  0.500000\n",
       "4   dokumen 5   0.562500  0.562500  0.562500\n",
       "5   dokumen 6   0.444444  0.444444  0.444444\n",
       "6   dokumen 7   0.700000  0.700000  0.700000\n",
       "7   dokumen 8   0.636364  0.636364  0.636364\n",
       "8   dokumen 9   0.666667  0.666667  0.666667\n",
       "9  dokumen 10   0.666667  0.666667  0.666667"
      ]
     },
     "execution_count": 36,
     "metadata": {},
     "output_type": "execute_result"
    }
   ],
   "source": [
    "df_cm03"
   ]
  },
  {
   "cell_type": "code",
   "execution_count": 37,
   "metadata": {},
   "outputs": [
    {
     "data": {
      "text/plain": [
       "0.26666666666666666"
      ]
     },
     "execution_count": 37,
     "metadata": {},
     "output_type": "execute_result"
    }
   ],
   "source": [
    "df_cm005[\"fmeasure\"].mean()"
   ]
  },
  {
   "cell_type": "code",
   "execution_count": 38,
   "metadata": {},
   "outputs": [
    {
     "data": {
      "text/plain": [
       "0.35"
      ]
     },
     "execution_count": 38,
     "metadata": {},
     "output_type": "execute_result"
    }
   ],
   "source": [
    "df_cm01[\"fmeasure\"].mean()"
   ]
  },
  {
   "cell_type": "code",
   "execution_count": 39,
   "metadata": {},
   "outputs": [
    {
     "data": {
      "text/plain": [
       "0.4146645021645021"
      ]
     },
     "execution_count": 39,
     "metadata": {},
     "output_type": "execute_result"
    }
   ],
   "source": [
    "df_cm02[\"fmeasure\"].mean()"
   ]
  },
  {
   "cell_type": "code",
   "execution_count": 40,
   "metadata": {},
   "outputs": [
    {
     "data": {
      "text/plain": [
       "0.5662752525252526"
      ]
     },
     "execution_count": 40,
     "metadata": {},
     "output_type": "execute_result"
    }
   ],
   "source": [
    "df_cm03[\"fmeasure\"].mean()"
   ]
  },
  {
   "cell_type": "code",
   "execution_count": 41,
   "metadata": {},
   "outputs": [
    {
     "data": {
      "text/html": [
       "<div>\n",
       "<style scoped>\n",
       "    .dataframe tbody tr th:only-of-type {\n",
       "        vertical-align: middle;\n",
       "    }\n",
       "\n",
       "    .dataframe tbody tr th {\n",
       "        vertical-align: top;\n",
       "    }\n",
       "\n",
       "    .dataframe thead th {\n",
       "        text-align: right;\n",
       "    }\n",
       "</style>\n",
       "<table border=\"1\" class=\"dataframe\">\n",
       "  <thead>\n",
       "    <tr style=\"text-align: right;\">\n",
       "      <th></th>\n",
       "      <th>dokumen uji</th>\n",
       "      <th>precision</th>\n",
       "      <th>recall</th>\n",
       "      <th>fmeasure</th>\n",
       "    </tr>\n",
       "  </thead>\n",
       "  <tbody>\n",
       "    <tr>\n",
       "      <th>0</th>\n",
       "      <td>dokumen 1</td>\n",
       "      <td>0.500000</td>\n",
       "      <td>0.500000</td>\n",
       "      <td>0.500000</td>\n",
       "    </tr>\n",
       "    <tr>\n",
       "      <th>1</th>\n",
       "      <td>dokumen 2</td>\n",
       "      <td>0.500000</td>\n",
       "      <td>0.500000</td>\n",
       "      <td>0.500000</td>\n",
       "    </tr>\n",
       "    <tr>\n",
       "      <th>2</th>\n",
       "      <td>dokumen 3</td>\n",
       "      <td>0.500000</td>\n",
       "      <td>0.500000</td>\n",
       "      <td>0.500000</td>\n",
       "    </tr>\n",
       "    <tr>\n",
       "      <th>3</th>\n",
       "      <td>dokumen 4</td>\n",
       "      <td>0.000000</td>\n",
       "      <td>0.000000</td>\n",
       "      <td>0.000000</td>\n",
       "    </tr>\n",
       "    <tr>\n",
       "      <th>4</th>\n",
       "      <td>dokumen 5</td>\n",
       "      <td>0.333333</td>\n",
       "      <td>0.333333</td>\n",
       "      <td>0.333333</td>\n",
       "    </tr>\n",
       "    <tr>\n",
       "      <th>5</th>\n",
       "      <td>dokumen 6</td>\n",
       "      <td>0.000000</td>\n",
       "      <td>0.000000</td>\n",
       "      <td>0.000000</td>\n",
       "    </tr>\n",
       "    <tr>\n",
       "      <th>6</th>\n",
       "      <td>dokumen 7</td>\n",
       "      <td>0.000000</td>\n",
       "      <td>0.000000</td>\n",
       "      <td>0.000000</td>\n",
       "    </tr>\n",
       "    <tr>\n",
       "      <th>7</th>\n",
       "      <td>dokumen 8</td>\n",
       "      <td>0.500000</td>\n",
       "      <td>0.500000</td>\n",
       "      <td>0.500000</td>\n",
       "    </tr>\n",
       "    <tr>\n",
       "      <th>8</th>\n",
       "      <td>dokumen 9</td>\n",
       "      <td>0.000000</td>\n",
       "      <td>0.000000</td>\n",
       "      <td>0.000000</td>\n",
       "    </tr>\n",
       "    <tr>\n",
       "      <th>9</th>\n",
       "      <td>dokumen 10</td>\n",
       "      <td>0.333333</td>\n",
       "      <td>0.333333</td>\n",
       "      <td>0.333333</td>\n",
       "    </tr>\n",
       "  </tbody>\n",
       "</table>\n",
       "</div>"
      ],
      "text/plain": [
       "  dokumen uji  precision    recall  fmeasure\n",
       "0   dokumen 1   0.500000  0.500000  0.500000\n",
       "1   dokumen 2   0.500000  0.500000  0.500000\n",
       "2   dokumen 3   0.500000  0.500000  0.500000\n",
       "3   dokumen 4   0.000000  0.000000  0.000000\n",
       "4   dokumen 5   0.333333  0.333333  0.333333\n",
       "5   dokumen 6   0.000000  0.000000  0.000000\n",
       "6   dokumen 7   0.000000  0.000000  0.000000\n",
       "7   dokumen 8   0.500000  0.500000  0.500000\n",
       "8   dokumen 9   0.000000  0.000000  0.000000\n",
       "9  dokumen 10   0.333333  0.333333  0.333333"
      ]
     },
     "execution_count": 41,
     "metadata": {},
     "output_type": "execute_result"
    }
   ],
   "source": [
    "df_cm005"
   ]
  }
 ],
 "metadata": {
  "kernelspec": {
   "display_name": "Python 3",
   "language": "python",
   "name": "python3"
  },
  "language_info": {
   "codemirror_mode": {
    "name": "ipython",
    "version": 3
   },
   "file_extension": ".py",
   "mimetype": "text/x-python",
   "name": "python",
   "nbconvert_exporter": "python",
   "pygments_lexer": "ipython3",
   "version": "3.6.5"
  }
 },
 "nbformat": 4,
 "nbformat_minor": 2
}

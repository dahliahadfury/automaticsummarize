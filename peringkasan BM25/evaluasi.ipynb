{
 "cells": [
  {
   "cell_type": "code",
   "execution_count": 1,
   "metadata": {},
   "outputs": [],
   "source": [
    "from sklearn.metrics import confusion_matrix\n",
    "import pandas as pd"
   ]
  },
  {
   "cell_type": "code",
   "execution_count": 2,
   "metadata": {},
   "outputs": [],
   "source": [
    "hasil_sistem_dok1= pd.read_csv(\"hasil sistem/final/hasil sistem dokumen 1.csv\")\n",
    "hasil_sistem_dok2= pd.read_csv(\"hasil sistem/final/hasil sistem dokumen 2.csv\")\n",
    "hasil_sistem_dok3= pd.read_csv(\"hasil sistem/final/hasil sistem dokumen 3.csv\")\n",
    "hasil_sistem_dok4= pd.read_csv(\"hasil sistem/final/hasil sistem dokumen 4.csv\")\n",
    "hasil_sistem_dok5= pd.read_csv(\"hasil sistem/final/hasil sistem dokumen 5.csv\")\n",
    "hasil_sistem_dok6= pd.read_csv(\"hasil sistem/final/hasil sistem dokumen 6.csv\")\n",
    "hasil_sistem_dok7= pd.read_csv(\"hasil sistem/final/hasil sistem dokumen 7.csv\")\n",
    "hasil_sistem_dok8= pd.read_csv(\"hasil sistem/final/hasil sistem dokumen 8.csv\")\n",
    "hasil_sistem_dok9= pd.read_csv(\"hasil sistem/final/hasil sistem dokumen 9.csv\")\n",
    "hasil_sistem_dok10= pd.read_csv(\"hasil sistem/final/hasil sistem dokumen 10.csv\")"
   ]
  },
  {
   "cell_type": "code",
   "execution_count": 3,
   "metadata": {},
   "outputs": [],
   "source": [
    "hasil_pakar_dok1= pd.read_csv(\"hasil pakar/csv/dokumen 1.csv\")\n",
    "hasil_pakar_dok2= pd.read_csv(\"hasil pakar/csv/dokumen 2.csv\")\n",
    "hasil_pakar_dok3= pd.read_csv(\"hasil pakar/csv/dokumen 3.csv\")\n",
    "hasil_pakar_dok4= pd.read_csv(\"hasil pakar/csv/dokumen 4.csv\")\n",
    "hasil_pakar_dok5= pd.read_csv(\"hasil pakar/csv/dokumen 5.csv\")\n",
    "hasil_pakar_dok6= pd.read_csv(\"hasil pakar/csv/dokumen 6.csv\")\n",
    "hasil_pakar_dok7= pd.read_csv(\"hasil pakar/csv/dokumen 7.csv\")\n",
    "hasil_pakar_dok8= pd.read_csv(\"hasil pakar/csv/dokumen 8.csv\")\n",
    "hasil_pakar_dok9= pd.read_csv(\"hasil pakar/csv/dokumen 9.csv\")\n",
    "hasil_pakar_dok10= pd.read_csv(\"hasil pakar/csv/dokumen 10.csv\")"
   ]
  },
  {
   "cell_type": "code",
   "execution_count": 4,
   "metadata": {},
   "outputs": [],
   "source": [
    "hasil_sistem = [hasil_sistem_dok1,\n",
    "hasil_sistem_dok2,\n",
    "hasil_sistem_dok3,\n",
    "hasil_sistem_dok4,\n",
    "hasil_sistem_dok5,\n",
    "hasil_sistem_dok6,\n",
    "hasil_sistem_dok7,\n",
    "hasil_sistem_dok8,\n",
    "hasil_sistem_dok9,\n",
    "hasil_sistem_dok10]"
   ]
  },
  {
   "cell_type": "code",
   "execution_count": 5,
   "metadata": {},
   "outputs": [],
   "source": [
    "hasil_pakar = [hasil_pakar_dok1,\n",
    "hasil_pakar_dok2,\n",
    "hasil_pakar_dok3,\n",
    "hasil_pakar_dok4,\n",
    "hasil_pakar_dok5,\n",
    "hasil_pakar_dok6,\n",
    "hasil_pakar_dok7,\n",
    "hasil_pakar_dok8,\n",
    "hasil_pakar_dok9,\n",
    "hasil_pakar_dok10]"
   ]
  },
  {
   "cell_type": "code",
   "execution_count": 6,
   "metadata": {},
   "outputs": [],
   "source": [
    "# hasil_pakar_dok5"
   ]
  },
  {
   "cell_type": "code",
   "execution_count": 7,
   "metadata": {},
   "outputs": [],
   "source": [
    "# hasil_sistem_dok5"
   ]
  },
  {
   "cell_type": "code",
   "execution_count": 8,
   "metadata": {
    "scrolled": true
   },
   "outputs": [
    {
     "name": "stderr",
     "output_type": "stream",
     "text": [
      "D:\\anaconda\\lib\\site-packages\\ipykernel_launcher.py:9: RuntimeWarning: invalid value encountered in double_scalars\n",
      "  if __name__ == '__main__':\n"
     ]
    }
   ],
   "source": [
    "precision_005_all = []\n",
    "recall_005_all = []\n",
    "fmeasure_005_all = []\n",
    "for i in range(len(hasil_pakar)):\n",
    "#     print(i)\n",
    "    cm_005 = confusion_matrix(hasil_pakar[i][\"0.05\"],hasil_sistem[i][\"0.05\"], labels=[\"yes\",\"no\"])\n",
    "    precision_005 = cm_005[0][0]/(cm_005[0][0]+cm_005[0][1])\n",
    "    recall_005 = cm_005[0][0]/(cm_005[0][0]+cm_005[1][0])\n",
    "    fmeasure_005 = (2*precision_005*recall_005)/(precision_005+recall_005)\n",
    "    precision_005_all.append(precision_005)\n",
    "    recall_005_all.append(recall_005)\n",
    "    fmeasure_005_all.append(fmeasure_005)    "
   ]
  },
  {
   "cell_type": "code",
   "execution_count": 9,
   "metadata": {},
   "outputs": [
    {
     "name": "stderr",
     "output_type": "stream",
     "text": [
      "D:\\anaconda\\lib\\site-packages\\ipykernel_launcher.py:9: RuntimeWarning: invalid value encountered in double_scalars\n",
      "  if __name__ == '__main__':\n"
     ]
    }
   ],
   "source": [
    "precision_01_all = []\n",
    "recall_01_all = []\n",
    "fmeasure_01_all = []\n",
    "for i in range(len(hasil_pakar)):\n",
    "#     print(i)\n",
    "    cm_01 = confusion_matrix(hasil_pakar[i][\"0.1\"],hasil_sistem[i][\"0.1\"], labels=[\"yes\",\"no\"])\n",
    "    precision_01 = cm_01[0][0]/(cm_01[0][0]+cm_01[0][1])\n",
    "    recall_01 = cm_01[0][0]/(cm_01[0][0]+cm_01[1][0])\n",
    "    fmeasure_01 = (2*precision_01*recall_01)/(precision_01+recall_01)\n",
    "    precision_01_all.append(precision_01)\n",
    "    recall_01_all.append(recall_01)\n",
    "    fmeasure_01_all.append(fmeasure_01)    "
   ]
  },
  {
   "cell_type": "code",
   "execution_count": 25,
   "metadata": {},
   "outputs": [],
   "source": [
    "precision_02_all = []\n",
    "recall_02_all = []\n",
    "fmeasure_02_all = []\n",
    "for i in range(len(hasil_pakar)):\n",
    "#     print(i)\n",
    "    cm_02 = confusion_matrix(hasil_pakar[i][\"0.2\"],hasil_sistem[i][\"0.2\"], labels=[\"yes\",\"no\"])\n",
    "    precision_02 = cm_02[0][0]/(cm_02[0][0]+cm_02[0][1])\n",
    "    recall_02 = cm_02[0][0]/(cm_02[0][0]+cm_02[1][0])\n",
    "    fmeasure_02 = (2*precision_02*recall_02)/(precision_02+recall_02)\n",
    "    precision_02_all.append(precision_02)\n",
    "    recall_02_all.append(recall_02)\n",
    "    fmeasure_02_all.append(fmeasure_02)    "
   ]
  },
  {
   "cell_type": "code",
   "execution_count": 11,
   "metadata": {},
   "outputs": [],
   "source": [
    "precision_03_all = []\n",
    "recall_03_all = []\n",
    "fmeasure_03_all = []\n",
    "for i in range(len(hasil_pakar)):\n",
    "#     print(i)\n",
    "    cm_03 = confusion_matrix(hasil_pakar[i][\"0.3\"],hasil_sistem[i][\"0.3\"], labels=[\"yes\",\"no\"])\n",
    "    precision_03 = cm_03[0][0]/(cm_03[0][0]+cm_03[0][1])\n",
    "    recall_03 = cm_03[0][0]/(cm_03[0][0]+cm_03[1][0])\n",
    "    fmeasure_03 = (2*precision_03*recall_03)/(precision_03+recall_03)\n",
    "    precision_03_all.append(precision_03)\n",
    "    recall_03_all.append(recall_03)\n",
    "    fmeasure_03_all.append(fmeasure_03) "
   ]
  },
  {
   "cell_type": "code",
   "execution_count": 12,
   "metadata": {},
   "outputs": [],
   "source": [
    "dokumen_uji = [\"dokumen 1\",\n",
    "\"dokumen 2\",\n",
    "\"dokumen 3\",\n",
    "\"dokumen 4\",\n",
    "\"dokumen 5\",\n",
    "\"dokumen 6\",\n",
    "\"dokumen 7\",\n",
    "\"dokumen 8\",\n",
    "\"dokumen 9\",\n",
    "\"dokumen 10\"]"
   ]
  },
  {
   "cell_type": "code",
   "execution_count": 13,
   "metadata": {},
   "outputs": [
    {
     "data": {
      "text/html": [
       "<div>\n",
       "<style scoped>\n",
       "    .dataframe tbody tr th:only-of-type {\n",
       "        vertical-align: middle;\n",
       "    }\n",
       "\n",
       "    .dataframe tbody tr th {\n",
       "        vertical-align: top;\n",
       "    }\n",
       "\n",
       "    .dataframe thead th {\n",
       "        text-align: right;\n",
       "    }\n",
       "</style>\n",
       "<table border=\"1\" class=\"dataframe\">\n",
       "  <thead>\n",
       "    <tr style=\"text-align: right;\">\n",
       "      <th></th>\n",
       "      <th>dokumen uji</th>\n",
       "      <th>precision</th>\n",
       "      <th>recall</th>\n",
       "      <th>fmeasure</th>\n",
       "    </tr>\n",
       "  </thead>\n",
       "  <tbody>\n",
       "  </tbody>\n",
       "</table>\n",
       "</div>"
      ],
      "text/plain": [
       "Empty DataFrame\n",
       "Columns: [dokumen uji, precision, recall, fmeasure]\n",
       "Index: []"
      ]
     },
     "execution_count": 13,
     "metadata": {},
     "output_type": "execute_result"
    }
   ],
   "source": [
    "df_cm005 = pd.DataFrame(columns=['dokumen uji','precision', 'recall', 'fmeasure'])\n",
    "df_cm005"
   ]
  },
  {
   "cell_type": "code",
   "execution_count": 14,
   "metadata": {},
   "outputs": [],
   "source": [
    "import numpy as np"
   ]
  },
  {
   "cell_type": "code",
   "execution_count": 15,
   "metadata": {},
   "outputs": [],
   "source": [
    "df_cm005[\"dokumen uji\"] = dokumen_uji\n",
    "df_cm005[\"precision\"] = precision_005_all\n",
    "df_cm005[\"recall\"] = recall_005_all\n",
    "df_cm005[\"fmeasure\"] = fmeasure_005_all\n",
    "df_cm005=df_cm005.fillna(0)"
   ]
  },
  {
   "cell_type": "code",
   "execution_count": 16,
   "metadata": {},
   "outputs": [],
   "source": [
    "df_cm01 = pd.DataFrame(columns=['dokumen uji','precision', 'recall', 'fmeasure'])\n",
    "df_cm01[\"dokumen uji\"] = dokumen_uji\n",
    "df_cm01[\"precision\"] = precision_01_all\n",
    "df_cm01[\"recall\"] = recall_01_all\n",
    "df_cm01[\"fmeasure\"] = fmeasure_01_all\n",
    "df_cm01=df_cm01.fillna(0)"
   ]
  },
  {
   "cell_type": "code",
   "execution_count": 17,
   "metadata": {},
   "outputs": [],
   "source": [
    "df_cm02 = pd.DataFrame(columns=['dokumen uji','precision', 'recall', 'fmeasure'])\n",
    "df_cm02[\"dokumen uji\"] = dokumen_uji\n",
    "df_cm02[\"precision\"] = precision_02_all\n",
    "df_cm02[\"recall\"] = recall_02_all\n",
    "df_cm02[\"fmeasure\"] = fmeasure_02_all\n",
    "df_cm02=df_cm02.fillna(0)"
   ]
  },
  {
   "cell_type": "code",
   "execution_count": 18,
   "metadata": {},
   "outputs": [],
   "source": [
    "df_cm03 = pd.DataFrame(columns=['dokumen uji','precision', 'recall', 'fmeasure'])\n",
    "df_cm03[\"dokumen uji\"] = dokumen_uji\n",
    "df_cm03[\"precision\"] = precision_03_all\n",
    "df_cm03[\"recall\"] = recall_03_all\n",
    "df_cm03[\"fmeasure\"] = fmeasure_03_all\n",
    "df_cm03=df_cm03.fillna(0)"
   ]
  },
  {
   "cell_type": "code",
   "execution_count": 24,
   "metadata": {},
   "outputs": [
    {
     "data": {
      "text/plain": [
       "0.23333333333333334"
      ]
     },
     "execution_count": 24,
     "metadata": {},
     "output_type": "execute_result"
    }
   ],
   "source": [
    "df_cm005[\"fmeasure\"].mean()"
   ]
  },
  {
   "cell_type": "code",
   "execution_count": 21,
   "metadata": {},
   "outputs": [
    {
     "data": {
      "text/plain": [
       "0.26666666666666666"
      ]
     },
     "execution_count": 21,
     "metadata": {},
     "output_type": "execute_result"
    }
   ],
   "source": [
    "df_cm01[\"fmeasure\"].mean()"
   ]
  },
  {
   "cell_type": "code",
   "execution_count": 22,
   "metadata": {},
   "outputs": [
    {
     "data": {
      "text/plain": [
       "0.36883116883116884"
      ]
     },
     "execution_count": 22,
     "metadata": {},
     "output_type": "execute_result"
    }
   ],
   "source": [
    "df_cm02[\"fmeasure\"].mean()"
   ]
  },
  {
   "cell_type": "code",
   "execution_count": 23,
   "metadata": {},
   "outputs": [
    {
     "data": {
      "text/plain": [
       "0.5516919191919192"
      ]
     },
     "execution_count": 23,
     "metadata": {},
     "output_type": "execute_result"
    }
   ],
   "source": [
    "df_cm03[\"fmeasure\"].mean()"
   ]
  }
 ],
 "metadata": {
  "kernelspec": {
   "display_name": "Python 3",
   "language": "python",
   "name": "python3"
  },
  "language_info": {
   "codemirror_mode": {
    "name": "ipython",
    "version": 3
   },
   "file_extension": ".py",
   "mimetype": "text/x-python",
   "name": "python",
   "nbconvert_exporter": "python",
   "pygments_lexer": "ipython3",
   "version": "3.6.5"
  }
 },
 "nbformat": 4,
 "nbformat_minor": 2
}

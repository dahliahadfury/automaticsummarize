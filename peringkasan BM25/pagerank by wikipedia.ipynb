{
 "cells": [
  {
   "cell_type": "code",
   "execution_count": 1,
   "metadata": {},
   "outputs": [
    {
     "name": "stdout",
     "output_type": "stream",
     "text": [
      "N  5\n",
      "v  [[0.33170739]\n",
      " [0.77324665]\n",
      " [0.47095143]\n",
      " [0.40263064]\n",
      " [0.77076583]]\n",
      "v  [[0.12065149]\n",
      " [0.28125199]\n",
      " [0.17129855]\n",
      " [0.14644832]\n",
      " [0.28034965]]\n",
      "v  [[0.2682972 ]\n",
      " [0.08127689]\n",
      " [0.08127689]\n",
      " [0.34186608]\n",
      " [0.22728295]]\n"
     ]
    }
   ],
   "source": [
    "\"\"\"Pagerank algorithm with explicit number of iterations.\n",
    "\n",
    "Returns\n",
    "-------\n",
    "ranking of nodes (pages) in the adjacency matrix\n",
    "\n",
    "\"\"\"\n",
    "\n",
    "import numpy as np\n",
    "\n",
    "def pagerank(M, num_iterations=10, d=0.85):\n",
    "    \"\"\"pagerank: The trillion dollar algorithm.\n",
    "\n",
    "    Parameters\n",
    "    ----------\n",
    "    M : numpy array\n",
    "        adjacency matrix where M_i,j represents the link from 'j' to 'i', such that for all 'j'\n",
    "        sum(i, M_i,j) = 1]\n",
    "    num_iterations : int, optional\n",
    "        number of iterations, by default 100\n",
    "    d : float, optional\n",
    "        damping factor, by default 0.85\n",
    "\n",
    "    Returns\n",
    "    -------\n",
    "    numpy array\n",
    "        a vector of ranks such that v_i is the i-th rank from [0, 1],\n",
    "        v sums to 1\n",
    "\n",
    "    \"\"\"\n",
    "    #total baris / banyak data\n",
    "    N = M.shape[1]\n",
    "    print(\"N \", N)\n",
    "    \n",
    "    #random bobot awal pagerank\n",
    "    v = np.random.rand(N, 1)\n",
    "    print(\"v \",v)\n",
    "    \n",
    "    #\n",
    "    v = v / np.linalg.norm(v, 1)\n",
    "    print(\"v \",v)\n",
    "    \n",
    "    iteration = 0\n",
    "    while iteration < num_iterations:\n",
    "        iteration += 1\n",
    "        \n",
    "        #\n",
    "        v = d * np.matmul(M, v) + (1 - d) / N\n",
    "        print(\"v \",v)\n",
    "    return v\n",
    "\n",
    "\n",
    "M = np.array([[0, 0, 0, 0, 1],\n",
    "              [0.5, 0, 0, 0, 0],\n",
    "              [0.5, 0, 0, 0, 0],\n",
    "              [0, 1, 0.5, 0, 0],\n",
    "              [0, 0, 0.5, 1, 0]])\n",
    "v = pagerank(M, 0.001, 0.85)"
   ]
  },
  {
   "cell_type": "code",
   "execution_count": 3,
   "metadata": {},
   "outputs": [
    {
     "data": {
      "text/plain": [
       "array([[0.97784085],\n",
       "       [0.37862554],\n",
       "       [0.74747527],\n",
       "       [0.30175205],\n",
       "       [0.47903024]])"
      ]
     },
     "execution_count": 3,
     "metadata": {},
     "output_type": "execute_result"
    }
   ],
   "source": [
    "pp = np.random.rand(5, 1)\n",
    "pp"
   ]
  },
  {
   "cell_type": "code",
   "execution_count": 4,
   "metadata": {},
   "outputs": [
    {
     "data": {
      "text/plain": [
       "array([[0.48892042],\n",
       "       [0.18931277],\n",
       "       [0.37373763],\n",
       "       [0.15087603],\n",
       "       [0.23951512]])"
      ]
     },
     "execution_count": 4,
     "metadata": {},
     "output_type": "execute_result"
    }
   ],
   "source": [
    "pp = pp/2\n"
   ]
  }
 ],
 "metadata": {
  "kernelspec": {
   "display_name": "Python 3",
   "language": "python",
   "name": "python3"
  },
  "language_info": {
   "codemirror_mode": {
    "name": "ipython",
    "version": 3
   },
   "file_extension": ".py",
   "mimetype": "text/x-python",
   "name": "python",
   "nbconvert_exporter": "python",
   "pygments_lexer": "ipython3",
   "version": "3.6.5"
  }
 },
 "nbformat": 4,
 "nbformat_minor": 2
}
